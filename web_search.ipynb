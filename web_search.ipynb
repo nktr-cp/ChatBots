{
 "cells": [
  {
   "cell_type": "code",
   "execution_count": null,
   "id": "7995e99c",
   "metadata": {},
   "outputs": [],
   "source": [
    "!pip install openai langchain llama-index google-search-results faiss-cpu"
   ]
  },
  {
   "cell_type": "code",
   "execution_count": null,
   "id": "3fdb3729",
   "metadata": {},
   "outputs": [],
   "source": [
    "import os\n",
    "# 環境変数\n",
    "os.environ[\"OPENAI_API_KEY\"] = \"Your Open API KEY\""
   ]
  },
  {
   "cell_type": "code",
   "execution_count": null,
   "id": "576d8ea3",
   "metadata": {},
   "outputs": [],
   "source": [
    "SERP_API_KEY = \"Your Serp API KEY\""
   ]
  },
  {
   "cell_type": "code",
   "execution_count": null,
   "id": "5b1a2fc6",
   "metadata": {},
   "outputs": [],
   "source": [
    "from langchain import SerpAPIWrapper\n",
    "from langchain.agents import initialize_agent, Tool\n",
    "\n",
    "# 検索するAPIのラッパーを用意する\n",
    "search = SerpAPIWrapper(\n",
    "    serpapi_api_key=SERP_API_KEY,\n",
    "    params = {\"engine\": \"bing\",\"gl\": \"jp\",\"hl\": \"ja\"}\n",
    ")\n",
    "\n",
    "# ツールにエージェントが利用する機能を格納する\n",
    "tools = [\n",
    "    Tool(\n",
    "        name=\"Search\",\n",
    "        func=search.run,\n",
    "        description=\"useful for when you need to answer questions about current events\"\n",
    "    ),\n",
    "    Tool(\n",
    "        name=\"Serch_trash_day\",\n",
    "        func=day_qa_chain.run,\n",
    "        description=\"useful if you want to find out what day to dump that \\\n",
    "        type of trash in Bukyo-ku.\"\n",
    "    )\n",
    "]"
   ]
  },
  {
   "cell_type": "code",
   "execution_count": null,
   "id": "2f45e280",
   "metadata": {},
   "outputs": [],
   "source": [
    "# エージェントが利用するプロンプトを作成する\n",
    "template = \"\"\"Answer the following questions.You have access to the following tools:\n",
    "{tools}\n",
    "Use the following format:\n",
    "Question: the input question you must answer\n",
    "Thought: you should always think about what to do\n",
    "Action: the action to take, should be one of [{tool_names}]\n",
    "Action Input: the input to the action\n",
    "Observation: the result of the action\n",
    "... (this Thought/Action/Action Input/Observation can repeat N times)\n",
    "Thought: I now know the final answer\n",
    "Final Answer (in Japanese): the final answer to the original input question in Japanese\n",
    "Question: {input}\n",
    "{agent_scratchpad}\"\"\""
   ]
  },
  {
   "cell_type": "code",
   "execution_count": null,
   "id": "b71425fb",
   "metadata": {},
   "outputs": [],
   "source": [
    "from langchain.prompts import BaseChatPromptTemplate\n",
    "from langchain.schema import HumanMessage\n",
    "from typing import List, Union\n",
    "\n",
    "# エージェントのプロンプトのテンプレートを定義する\n",
    "class CustomPromptTemplate(BaseChatPromptTemplate):\n",
    "    template: str\n",
    "    tools: List[Tool]\n",
    "        \n",
    "    def format_messages(self, **kwargs) -> str:\n",
    "        intermediate_steps = kwargs.pop(\"intermediate_steps\")\n",
    "        thoughts = \"\"\n",
    "        for action, observation in intermediate_steps:\n",
    "            thoughts += action.log\n",
    "            thoughts += f\"\\nObservation: {observation}\\nThought: \"\n",
    "        kwargs[\"agent_scratchpad\"] = thoughts\n",
    "        kwargs[\"tools\"] = \"\\n\".join([f\"{tool.name}: {tool.description}\" for tool in self.tools])\n",
    "        kwargs[\"tool_names\"] = \", \".join([tool.name for tool in self.tools])\n",
    "        formatted = self.template.format(**kwargs)\n",
    "        return [HumanMessage(content=formatted)]\n",
    "\n",
    "prompt = CustomPromptTemplate(\n",
    "    template=template,\n",
    "    tools=tools,\n",
    "    input_variables=[\"input\", \"intermediate_steps\"]\n",
    ")"
   ]
  },
  {
   "cell_type": "code",
   "execution_count": null,
   "id": "072baaa7",
   "metadata": {},
   "outputs": [],
   "source": [
    "from langchain.agents import AgentOutputParser\n",
    "from langchain.schema import AgentAction, AgentFinish, HumanMessage\n",
    "\n",
    "# エージェントの出力のパーサーを作成する\n",
    "class CustomOutputParser(AgentOutputParser):\n",
    "    def parse(self, llm_output: str) -> Union[AgentAction, AgentFinish]:\n",
    "        if \"Final Answer (in Japanese):\" in llm_output:\n",
    "            return AgentFinish(\n",
    "                return_values={\n",
    "                    \"output\": llm_output.split(\"Final Answer (in Japanese):\")[-1].strip()\n",
    "                },\n",
    "                log=llm_output,\n",
    "            )\n",
    "        # 行動と行動のための入力をパースする\n",
    "        regex = r\"Action: (.*?)[\\n]*Action Input:[\\s]*(.*)\"\n",
    "        match = re.search(regex, llm_output, re.DOTALL)\n",
    "        if not match:\n",
    "            raise ValueError(f\"Could not parse LLM output: `{llm_output}`\")\n",
    "        action = match.group(1).strip()\n",
    "        action_input = match.group(2)\n",
    "        # 行動と行動のための入力を返す\n",
    "        return AgentAction(tool=action,\n",
    "                           tool_input=action_input.strip(\" \").strip('\"'),\n",
    "                           log=llm_output)\n",
    "\n",
    "output_parser = CustomOutputParser()"
   ]
  },
  {
   "cell_type": "code",
   "execution_count": null,
   "id": "b1be9180",
   "metadata": {},
   "outputs": [],
   "source": [
    "from langchain.agents import LLMSingleActionAgent\n",
    "from langchain.agents import AgentExecutor\n",
    "\n",
    "# エージェントを設定する\n",
    "llm_chain = LLMChain(llm=llm, prompt=prompt)\n",
    "\n",
    "tool_names = [tool.name for tool in tools]\n",
    "agent = LLMSingleActionAgent(\n",
    "    llm_chain=llm_chain,\n",
    "    output_parser=output_parser,\n",
    "    stop=[\"\\nObservation:\"],\n",
    "    allowed_tools=tool_names\n",
    ")\n",
    "\n",
    "agent_executor = AgentExecutor.from_agent_and_tools(agent=agent,\n",
    "                tools=tools,\n",
    "                verbose=True)"
   ]
  },
  {
   "cell_type": "code",
   "execution_count": null,
   "id": "437560f4",
   "metadata": {},
   "outputs": [],
   "source": [
    "agent_executor.run(\"ここに質問を記入\")"
   ]
  }
 ],
 "metadata": {
  "kernelspec": {
   "display_name": "Python 3 (ipykernel)",
   "language": "python",
   "name": "python3"
  },
  "language_info": {
   "codemirror_mode": {
    "name": "ipython",
    "version": 3
   },
   "file_extension": ".py",
   "mimetype": "text/x-python",
   "name": "python",
   "nbconvert_exporter": "python",
   "pygments_lexer": "ipython3",
   "version": "3.9.7"
  }
 },
 "nbformat": 4,
 "nbformat_minor": 5
}
